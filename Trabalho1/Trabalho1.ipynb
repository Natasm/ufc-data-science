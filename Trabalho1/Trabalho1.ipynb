{
 "cells": [
  {
   "cell_type": "code",
   "execution_count": 7,
   "metadata": {},
   "outputs": [],
   "source": [
    "import numpy as np  \n",
    "import random\n",
    "import statistics"
   ]
  },
  {
   "cell_type": "code",
   "execution_count": 8,
   "metadata": {},
   "outputs": [],
   "source": [
    "def readFile():\n",
    "\treturn np.genfromtxt(fname='covtype.data', delimiter=',',dtype=np.unicode)"
   ]
  },
  {
   "cell_type": "code",
   "execution_count": 9,
   "metadata": {},
   "outputs": [],
   "source": [
    "def buildX(array):\n",
    "\tarray = np.array(array, dtype=np.float64)\n",
    "\tarray = array[:, 0:10]\n",
    "\treturn array.transpose()"
   ]
  },
  {
   "cell_type": "code",
   "execution_count": 10,
   "metadata": {},
   "outputs": [],
   "source": [
    "def buildY(array):\n",
    "\tsize = array.shape[0]\n",
    "\tarr = np.zeros((7, size))\n",
    "\ti = 0;\n",
    "\twhile(i < size):\n",
    "\t\tarr[int(array[i, 54]) - 1, i] = 1\n",
    "\t\ti = i + 1;\n",
    "\treturn arr;"
   ]
  },
  {
   "cell_type": "code",
   "execution_count": 11,
   "metadata": {},
   "outputs": [],
   "source": [
    "def buildA(arrayX, arrayY):\n",
    "\targX = np.array(arrayX, dtype=np.float64)\n",
    "\targY = np.array(arrayY, dtype=np.float64)\n",
    "\n",
    "\targ1 = np.dot(argY, argX.transpose())\n",
    "\targ2 = np.linalg.pinv(np.dot(argX, argX.transpose()))\n",
    "\t\n",
    "\treturn np.dot(arg1, arg2)"
   ]
  },
  {
   "cell_type": "code",
   "execution_count": 12,
   "metadata": {},
   "outputs": [],
   "source": [
    "def training(arrayXTrain, arrayYTrain):\n",
    "\treturn buildA(arrayXTrain, arrayYTrain)"
   ]
  },
  {
   "cell_type": "code",
   "execution_count": 13,
   "metadata": {},
   "outputs": [],
   "source": [
    "def mult_Test(arrayA, arrayXTest):\n",
    "\treturn np.dot(np.array(arrayA, dtype=np.float64), np.array(arrayXTest, dtype=np.float64))"
   ]
  },
  {
   "cell_type": "code",
   "execution_count": 14,
   "metadata": {},
   "outputs": [],
   "source": [
    "def indexElementsTest(arrayX):\n",
    "\ttest = random.sample(range(0, arrayX.shape[0]), int(arrayX.shape[0]*0.2))\n",
    "\treturn test"
   ]
  },
  {
   "cell_type": "code",
   "execution_count": 15,
   "metadata": {},
   "outputs": [],
   "source": [
    "def matrixTrain(array, indexArray):\n",
    "\treturn np.delete(array, indexArray, 0)"
   ]
  },
  {
   "cell_type": "code",
   "execution_count": 16,
   "metadata": {},
   "outputs": [],
   "source": [
    "def searchPositionMaxValue(array):\n",
    "\tMAX_VALUE = float(\"-inf\")\n",
    "\tPOS = -1\n",
    "\tfor i in range(array.size):\n",
    "\t\tif MAX_VALUE < array[i]: \n",
    "\t\t\tPOS = i + 1\n",
    "\t\t\tMAX_VALUE = array[i]\n",
    "\treturn POS"
   ]
  },
  {
   "cell_type": "code",
   "execution_count": 17,
   "metadata": {},
   "outputs": [],
   "source": [
    "def percentage(array):\n",
    "\tsize = len(array)\n",
    "\ttrueSize = 0\n",
    "\n",
    "\tfor i in range(size):\n",
    "\t\tif (array[i] == True): trueSize = trueSize + 1\n",
    "\n",
    "\treturn (trueSize / size) * 100"
   ]
  },
  {
   "cell_type": "code",
   "execution_count": 18,
   "metadata": {},
   "outputs": [],
   "source": [
    "def media(array):\n",
    "\tsoma = 0\n",
    "\tfor i in range(len(array)): soma = soma + array[i]\n",
    "\treturn soma / len(array)"
   ]
  },
  {
   "cell_type": "code",
   "execution_count": 19,
   "metadata": {},
   "outputs": [],
   "source": [
    "def min(array):\n",
    "\tarr = array\n",
    "\tarr = sorted(arr)\n",
    "\treturn arr[0]"
   ]
  },
  {
   "cell_type": "code",
   "execution_count": 20,
   "metadata": {},
   "outputs": [],
   "source": [
    "def max(array):\n",
    "\tarr = array\n",
    "\tarr = sorted(arr)\n",
    "\treturn arr[len(array) - 1]"
   ]
  },
  {
   "cell_type": "code",
   "execution_count": 21,
   "metadata": {},
   "outputs": [],
   "source": [
    "def factoryClassPercentage():\n",
    "\ttabelPercentageClass = {}\n",
    "\tfor i in range(7):\n",
    "\t\ttabelPercentageClass[i] = list()\n",
    "\treturn tabelPercentageClass"
   ]
  },
  {
   "cell_type": "code",
   "execution_count": 22,
   "metadata": {},
   "outputs": [],
   "source": [
    "def mediaClass(array, classIndex):\n",
    "\taccept = 0\n",
    "\ttotal = 0\n",
    "\n",
    "\tmatrixA = training(buildX(array), buildY(array))\n",
    "\n",
    "\tfor i in range(len(array)):\n",
    "\t\tif (int(array[i][54]) == int(classIndex)):\n",
    "\t\t\tresult = searchPositionMaxValue(mult_Test(matrixA, array[i][0:10]))\n",
    "\t\t\tif (result == int(array[i][54])): accept = accept + 1\n",
    "\t\t\ttotal = total + 1\n",
    "\tif (total == 0) : return 0\n",
    "\telse: return (float(accept / total) * 100)"
   ]
  },
  {
   "cell_type": "code",
   "execution_count": 23,
   "metadata": {},
   "outputs": [],
   "source": [
    "def iterate():\n",
    "\ttabelPercentage = list()\n",
    "\ttabelPercentageClass = factoryClassPercentage()\n",
    "\tfile = readFile()\n",
    "\n",
    "\tfor j in range(100):\n",
    "\t\tindexElementsTestVar = indexElementsTest(file)\n",
    "\t\tmatrixTrainVar = matrixTrain(file, indexElementsTestVar)\n",
    "\t\tmatrixA = training(buildX(matrixTrainVar), buildY(matrixTrainVar))\n",
    "\n",
    "\t\ttabel = list()\n",
    "\n",
    "\t\tfor i in range(len(indexElementsTestVar)):\n",
    "\t\t\tX = file[indexElementsTestVar[i]][0:10]\n",
    "\t\t\tresult = mult_Test(matrixA, X)\n",
    "\t\t\tresultReal = file[indexElementsTestVar[i]][54]\n",
    "\t\t\tresultAprox = searchPositionMaxValue(result)\n",
    "\n",
    "\t\t\tif (int(resultReal) == int(resultAprox)):\n",
    "\t\t\t\ttabelPercentageClass[int(resultReal) - 1].append(True)\n",
    "\t\t\t\ttabel.append(True)\n",
    "\t\t\telse:\n",
    "\t\t\t\ttabelPercentageClass[int(resultReal) - 1].append(False)\n",
    "\t\t\t\ttabel.append(False)\n",
    "\n",
    "\t\ttabelPercentage.append(percentage(tabel))\n",
    "\n",
    "\tprint(\"Media: \", media(tabelPercentage))\n",
    "\tprint(\"Minimo: \", min(tabelPercentage))\n",
    "\tprint(\"Maximo: \", max(tabelPercentage))\n",
    "\tprint(\"Desvio padrao: \", statistics.pstdev(tabelPercentage, None))\n",
    "\tprint(\"Media por classe - Classe 1: \", mediaClass(file, 1))\n",
    "\tprint(\"Media por classe - Classe 2: \", mediaClass(file, 2))\n",
    "\tprint(\"Media por classe - Classe 3: \", mediaClass(file, 3))\n",
    "\tprint(\"Media por classe - Classe 4: \", mediaClass(file, 4))\n",
    "\tprint(\"Media por classe - Classe 5: \", mediaClass(file, 5))\n",
    "\tprint(\"Media por classe - Classe 6: \", mediaClass(file, 6))\n",
    "\tprint(\"Media por classe - Classe 7: \", mediaClass(file, 7))"
   ]
  },
  {
   "cell_type": "code",
   "execution_count": 28,
   "metadata": {},
   "outputs": [
    {
     "name": "stdout",
     "output_type": "stream",
     "text": [
      "Media:  61.84545454545456\n",
      "Minimo:  51.81818181818182\n",
      "Maximo:  70.0\n",
      "Desvio padrao:  4.152973643384295\n",
      "Media por classe - Classe 1:  35.39823008849557\n",
      "Media por classe - Classe 2:  94.09448818897637\n",
      "Media por classe - Classe 3:  76.92307692307693\n",
      "Media por classe - Classe 4:  67.56756756756756\n",
      "Media por classe - Classe 5:  12.987012987012985\n",
      "Media por classe - Classe 6:  7.6923076923076925\n",
      "Media por classe - Classe 7:  61.904761904761905\n"
     ]
    }
   ],
   "source": [
    "iterate()"
   ]
  },
  {
   "cell_type": "code",
   "execution_count": null,
   "metadata": {},
   "outputs": [],
   "source": []
  }
 ],
 "metadata": {
  "kernelspec": {
   "display_name": "Python 3",
   "language": "python",
   "name": "python3"
  },
  "language_info": {
   "codemirror_mode": {
    "name": "ipython",
    "version": 3
   },
   "file_extension": ".py",
   "mimetype": "text/x-python",
   "name": "python",
   "nbconvert_exporter": "python",
   "pygments_lexer": "ipython3",
   "version": "3.7.2"
  }
 },
 "nbformat": 4,
 "nbformat_minor": 2
}
